{
 "cells": [
  {
   "cell_type": "markdown",
   "id": "820f9e13",
   "metadata": {},
   "source": [
    "# Madlibs\n",
    "In this notebook, we will be creating a \"Madlibds\" game: a game where the user is aksed to input specific types \n",
    "of words (nouns, verbs, etc.) and which returns a full text which uses these words to in places which were\n",
    "previously left blank on purpose."
   ]
  },
  {
   "cell_type": "code",
   "execution_count": 1,
   "id": "800b4763",
   "metadata": {},
   "outputs": [],
   "source": [
    "# importing regex will allow us to easily parse the text generate by our good friend ChatGPT and find the blanks to\n",
    "# be filled, and create the list of inputs we want to ask our user.\n",
    "\n",
    "import regex as re"
   ]
  },
  {
   "cell_type": "code",
   "execution_count": 2,
   "id": "585cb116",
   "metadata": {},
   "outputs": [
    {
     "data": {
      "text/plain": [
       "'Once upon a time, there was a [adjective] [noun] who loved to [verb] in the [place]. One day, they found a magical [noun] that granted them the power to [verb] anything they wished. Excitedly, they [verb] until [adjective] [noun] appeared, causing chaos in the [place]. To fix everything, they had to [verb] the [noun] and restore peace. The [noun] taught them an important lesson: [lesson]. And they lived [adverb] ever after.\\n'"
      ]
     },
     "execution_count": 2,
     "metadata": {},
     "output_type": "execute_result"
    }
   ],
   "source": [
    "# we first open our ChatGPT-produced Madlibs text.\n",
    "\n",
    "with open(\"/Users/rayon/Documents/Coding/Python/beginner_projects/madlibs/madlibs_text.txt\", \"r\") as file:\n",
    "    text = file.read()\n",
    "    \n",
    "text"
   ]
  },
  {
   "cell_type": "code",
   "execution_count": 3,
   "id": "0bb95b42",
   "metadata": {},
   "outputs": [
    {
     "data": {
      "text/plain": [
       "'Once upon a time, there was a {} {} who loved to {} in the {}. One day, they found a magical {} that granted them the power to {} anything they wished. Excitedly, they {} until {} {} appeared, causing chaos in the {}. To fix everything, they had to {} the {} and restore peace. The {} taught them an important lesson: {}. And they lived {} ever after.\\n'"
      ]
     },
     "execution_count": 3,
     "metadata": {},
     "output_type": "execute_result"
    }
   ],
   "source": [
    "# now we want to parse that text using regex to find the blanks, extract what they should be filled by into a list,\n",
    "# and replace them in the text with {} to be used with the .format method.\n",
    "\n",
    "blanks = re.findall(\"[[][A-Za-z]+[]]\", text)\n",
    "\n",
    "for word in blanks:\n",
    "    text = text.replace(word, \"{}\")\n",
    "    \n",
    "text"
   ]
  },
  {
   "cell_type": "code",
   "execution_count": 4,
   "id": "70323c9a",
   "metadata": {},
   "outputs": [
    {
     "name": "stdout",
     "output_type": "stream",
     "text": [
      "Please give us a/an: [adjective]blue\n",
      "Please give us a/an: [noun]bear\n",
      "Please give us a/an: [verb]shit\n",
      "Please give us a/an: [place]house\n",
      "Please give us a/an: [noun]book\n",
      "Please give us a/an: [verb]eat\n",
      "Please give us a/an: [verb]eradicate\n",
      "Please give us a/an: [adjective]huge\n",
      "Please give us a/an: [noun]cybercop\n",
      "Please give us a/an: [place]village\n",
      "Please give us a/an: [verb]read\n",
      "Please give us a/an: [noun]golf club\n",
      "Please give us a/an: [noun]monkey\n",
      "Please give us a/an: [lesson]don't shit everywhere\n",
      "Please give us a/an: [adverb]barely enough\n"
     ]
    }
   ],
   "source": [
    "# we now ask the user for all his inputs, and store them in a list.\n",
    "\n",
    "inputList = []\n",
    "\n",
    "for inpt in blanks:\n",
    "    user_input = input(\"Please give us a/an: \" + inpt)\n",
    "    inputList.append(user_input)"
   ]
  },
  {
   "cell_type": "code",
   "execution_count": 7,
   "id": "e906f525",
   "metadata": {},
   "outputs": [],
   "source": [
    "# we can now replace every blank in the original text with the user's words.\n",
    "\n",
    "new_text = text.format(*inputList)"
   ]
  },
  {
   "cell_type": "code",
   "execution_count": 8,
   "id": "4732f0bf",
   "metadata": {},
   "outputs": [
    {
     "name": "stdout",
     "output_type": "stream",
     "text": [
      "Once upon a time, there was a blue bear who loved to shit in the house. One day, they found a magical book that granted them the power to eat anything they wished. Excitedly, they eradicate until huge cybercop appeared, causing chaos in the village. To fix everything, they had to read the golf club and restore peace. The monkey taught them an important lesson: don't shit everywhere. And they lived barely enough ever after.\n",
      "\n"
     ]
    }
   ],
   "source": [
    "# and finally, we can print the new text generated with the user's input! Youhou!\n",
    "\n",
    "print(new_text)"
   ]
  }
 ],
 "metadata": {
  "kernelspec": {
   "display_name": "Python 3 (ipykernel)",
   "language": "python",
   "name": "python3"
  },
  "language_info": {
   "codemirror_mode": {
    "name": "ipython",
    "version": 3
   },
   "file_extension": ".py",
   "mimetype": "text/x-python",
   "name": "python",
   "nbconvert_exporter": "python",
   "pygments_lexer": "ipython3",
   "version": "3.11.5"
  }
 },
 "nbformat": 4,
 "nbformat_minor": 5
}
