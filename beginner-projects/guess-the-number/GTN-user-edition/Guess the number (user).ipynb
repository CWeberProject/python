{
 "cells": [
  {
   "cell_type": "markdown",
   "id": "b3379f65",
   "metadata": {},
   "source": [
    "# Guess the number: user edition\n",
    "In this fun game, the computer has a number in mind between 1 and 10 (included) which the user has to guess. The user has as many tries as he wants to guess the number, and at each wrong answer the computer indicates higher or lower."
   ]
  },
  {
   "cell_type": "code",
   "execution_count": 1,
   "id": "f1c7b9b5",
   "metadata": {},
   "outputs": [],
   "source": [
    "import random"
   ]
  },
  {
   "cell_type": "code",
   "execution_count": 2,
   "id": "e71f6c0e",
   "metadata": {},
   "outputs": [],
   "source": [
    "# we will first have the computer think of a number, and store it in a variable.\n",
    "\n",
    "number = random.randint(1,11)"
   ]
  },
  {
   "cell_type": "code",
   "execution_count": 3,
   "id": "71c17ffb",
   "metadata": {},
   "outputs": [
    {
     "name": "stdout",
     "output_type": "stream",
     "text": [
      "Please, enter a number between 1 and 10 (inclusive):ten\n"
     ]
    }
   ],
   "source": [
    "# we then ask the user for a first input \n",
    "\n",
    "guess = input(\"Please, enter a number between 1 and 10 (inclusive):\")"
   ]
  },
  {
   "cell_type": "code",
   "execution_count": 4,
   "id": "87b51a57",
   "metadata": {},
   "outputs": [
    {
     "name": "stdout",
     "output_type": "stream",
     "text": [
      "Your input is not a number! Please enter an integer between 1 and 10 only...\n",
      "Please, enter a number between 1 and 10 (inclusive):123\n",
      "Your number is not between 1 and 10! Please enter an integer between 1 and 10 only...\n",
      "Please, enter a number between 1 and 10 (inclusive):5\n",
      "Your number is too high...\n",
      "Try again (lower this time):3\n",
      "Your number is too high...\n",
      "Try again (lower this time):2\n",
      "Your number is too high...\n",
      "Try again (lower this time):1\n",
      "Congrats! You found the computer's number, which was 1\n"
     ]
    }
   ],
   "source": [
    "# we will use a try/except combined with a while True infinite loop to ensure that the user can try again in case \n",
    "# he enters an invalid input (i.e. not a number between 1 and 10). Once the user has found the computer's number,$\n",
    "# we break the loop to end the game.\n",
    "\n",
    "while True:\n",
    "    try:\n",
    "        guess = int(guess)\n",
    "        if guess not in range(1,11):\n",
    "            print(\"Your number is not between 1 and 10! Please enter an integer between 1 and 10 only...\")\n",
    "            guess = input(\"Please, enter a number between 1 and 10 (inclusive):\")\n",
    "        elif guess > number:\n",
    "            print(\"Your number is too high...\")\n",
    "            guess = input(\"Try again (lower this time):\")\n",
    "        elif guess < number:\n",
    "            print(\"Your number is too low...\")\n",
    "            guess = input(\"Try again (higher this time):\")\n",
    "        else:\n",
    "            print(\"Congrats! You found the computer's number, which was\", guess)\n",
    "            break\n",
    "    except ValueError:\n",
    "        print(\"Your input is not a number! Please enter an integer between 1 and 10 only...\")\n",
    "        guess = input(\"Please, enter a number between 1 and 10 (inclusive):\")"
   ]
  }
 ],
 "metadata": {
  "kernelspec": {
   "display_name": "Python 3 (ipykernel)",
   "language": "python",
   "name": "python3"
  },
  "language_info": {
   "codemirror_mode": {
    "name": "ipython",
    "version": 3
   },
   "file_extension": ".py",
   "mimetype": "text/x-python",
   "name": "python",
   "nbconvert_exporter": "python",
   "pygments_lexer": "ipython3",
   "version": "3.11.5"
  }
 },
 "nbformat": 4,
 "nbformat_minor": 5
}
